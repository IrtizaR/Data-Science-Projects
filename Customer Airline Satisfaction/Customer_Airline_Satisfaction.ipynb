{
  "nbformat": 4,
  "nbformat_minor": 0,
  "metadata": {
    "colab": {
      "provenance": [],
      "gpuType": "T4",
      "authorship_tag": "ABX9TyMXiaWBV7vvBbO7hvl8jazw",
      "include_colab_link": true
    },
    "kernelspec": {
      "name": "python3",
      "display_name": "Python 3"
    },
    "language_info": {
      "name": "python"
    },
    "accelerator": "GPU"
  },
  "cells": [
    {
      "cell_type": "markdown",
      "metadata": {
        "id": "view-in-github",
        "colab_type": "text"
      },
      "source": [
        "<a href=\"https://colab.research.google.com/github/IrtizaR/Data-Science-Projects/blob/Customer-Airline-Satisfaction/Customer_Airline_Satisfaction.ipynb\" target=\"_parent\"><img src=\"https://colab.research.google.com/assets/colab-badge.svg\" alt=\"Open In Colab\"/></a>"
      ]
    },
    {
      "cell_type": "markdown",
      "source": [
        "**Importing required Libraries**"
      ],
      "metadata": {
        "id": "TzWTQFvY9WqG"
      }
    },
    {
      "cell_type": "code",
      "execution_count": null,
      "metadata": {
        "id": "g_QsBukw62RZ"
      },
      "outputs": [],
      "source": [
        "import pandas as pd\n",
        "import numpy as np\n",
        "from tabulate import tabulate"
      ]
    },
    {
      "cell_type": "code",
      "source": [
        "from google.colab import drive\n",
        "drive.mount('/content/drive')"
      ],
      "metadata": {
        "colab": {
          "base_uri": "https://localhost:8080/"
        },
        "id": "lBXqd0_z8pTI",
        "outputId": "6d218b3a-f3cc-4cff-aff5-e6d0b57a0df2"
      },
      "execution_count": null,
      "outputs": [
        {
          "output_type": "stream",
          "name": "stdout",
          "text": [
            "Mounted at /content/drive\n"
          ]
        }
      ]
    },
    {
      "cell_type": "markdown",
      "source": [
        "**Importing datasets**"
      ],
      "metadata": {
        "id": "5Iipzq3w9dUv"
      }
    },
    {
      "cell_type": "code",
      "source": [
        "train = pd.read_csv('/content/drive/MyDrive/Projects/Airline Customer Satisfaction/train.csv')\n",
        "test = pd.read_csv('/content/drive/MyDrive/Projects/Airline Customer Satisfaction/test.csv')"
      ],
      "metadata": {
        "id": "2ZTmLCwB8qj-"
      },
      "execution_count": null,
      "outputs": []
    },
    {
      "cell_type": "code",
      "source": [
        "print('Training data:',train.shape)\n",
        "print('Testing data: ',test.shape)"
      ],
      "metadata": {
        "colab": {
          "base_uri": "https://localhost:8080/"
        },
        "id": "RqYwwCaKHeTn",
        "outputId": "89418b7f-59bb-4605-b3c7-569221d953b2"
      },
      "execution_count": null,
      "outputs": [
        {
          "output_type": "stream",
          "name": "stdout",
          "text": [
            "Training data: (103904, 25)\n",
            "Testing data:  (25976, 25)\n"
          ]
        }
      ]
    },
    {
      "cell_type": "code",
      "source": [
        "print(tabulate(train[:6], headers=train.columns, tablefmt='fancy_grid'))"
      ],
      "metadata": {
        "colab": {
          "base_uri": "https://localhost:8080/"
        },
        "id": "xvAcObS1FHQp",
        "outputId": "927a7da7-0ce0-4e86-f45a-6c8c31968a96"
      },
      "execution_count": null,
      "outputs": [
        {
          "output_type": "stream",
          "name": "stdout",
          "text": [
            "╒════╤══════════════╤════════╤══════════╤═══════════════════╤═══════╤══════════════════╤══════════╤═══════════════════╤═════════════════════════╤═════════════════════════════════════╤══════════════════════════╤═════════════════╤══════════════════╤═══════════════════╤════════════════╤══════════════════════════╤════════════════════╤════════════════════╤════════════════════╤═══════════════════╤════════════════════╤═══════════════╤══════════════════════════════╤════════════════════════════╤═════════════════════════╕\n",
            "│    │   Unnamed: 0 │     id │ Gender   │ Customer Type     │   Age │ Type of Travel   │ Class    │   Flight Distance │   Inflight wifi service │   Departure/Arrival time convenient │   Ease of Online booking │   Gate location │   Food and drink │   Online boarding │   Seat comfort │   Inflight entertainment │   On-board service │   Leg room service │   Baggage handling │   Checkin service │   Inflight service │   Cleanliness │   Departure Delay in Minutes │   Arrival Delay in Minutes │ satisfaction            │\n",
            "╞════╪══════════════╪════════╪══════════╪═══════════════════╪═══════╪══════════════════╪══════════╪═══════════════════╪═════════════════════════╪═════════════════════════════════════╪══════════════════════════╪═════════════════╪══════════════════╪═══════════════════╪════════════════╪══════════════════════════╪════════════════════╪════════════════════╪════════════════════╪═══════════════════╪════════════════════╪═══════════════╪══════════════════════════════╪════════════════════════════╪═════════════════════════╡\n",
            "│  0 │            0 │  70172 │ Male     │ Loyal Customer    │    13 │ Personal Travel  │ Eco Plus │               460 │                       3 │                                   4 │                        3 │               1 │                5 │                 3 │              5 │                        5 │                  4 │                  3 │                  4 │                 4 │                  5 │             5 │                           25 │                         18 │ neutral or dissatisfied │\n",
            "├────┼──────────────┼────────┼──────────┼───────────────────┼───────┼──────────────────┼──────────┼───────────────────┼─────────────────────────┼─────────────────────────────────────┼──────────────────────────┼─────────────────┼──────────────────┼───────────────────┼────────────────┼──────────────────────────┼────────────────────┼────────────────────┼────────────────────┼───────────────────┼────────────────────┼───────────────┼──────────────────────────────┼────────────────────────────┼─────────────────────────┤\n",
            "│  1 │            1 │   5047 │ Male     │ disloyal Customer │    25 │ Business travel  │ Business │               235 │                       3 │                                   2 │                        3 │               3 │                1 │                 3 │              1 │                        1 │                  1 │                  5 │                  3 │                 1 │                  4 │             1 │                            1 │                          6 │ neutral or dissatisfied │\n",
            "├────┼──────────────┼────────┼──────────┼───────────────────┼───────┼──────────────────┼──────────┼───────────────────┼─────────────────────────┼─────────────────────────────────────┼──────────────────────────┼─────────────────┼──────────────────┼───────────────────┼────────────────┼──────────────────────────┼────────────────────┼────────────────────┼────────────────────┼───────────────────┼────────────────────┼───────────────┼──────────────────────────────┼────────────────────────────┼─────────────────────────┤\n",
            "│  2 │            2 │ 110028 │ Female   │ Loyal Customer    │    26 │ Business travel  │ Business │              1142 │                       2 │                                   2 │                        2 │               2 │                5 │                 5 │              5 │                        5 │                  4 │                  3 │                  4 │                 4 │                  4 │             5 │                            0 │                          0 │ satisfied               │\n",
            "├────┼──────────────┼────────┼──────────┼───────────────────┼───────┼──────────────────┼──────────┼───────────────────┼─────────────────────────┼─────────────────────────────────────┼──────────────────────────┼─────────────────┼──────────────────┼───────────────────┼────────────────┼──────────────────────────┼────────────────────┼────────────────────┼────────────────────┼───────────────────┼────────────────────┼───────────────┼──────────────────────────────┼────────────────────────────┼─────────────────────────┤\n",
            "│  3 │            3 │  24026 │ Female   │ Loyal Customer    │    25 │ Business travel  │ Business │               562 │                       2 │                                   5 │                        5 │               5 │                2 │                 2 │              2 │                        2 │                  2 │                  5 │                  3 │                 1 │                  4 │             2 │                           11 │                          9 │ neutral or dissatisfied │\n",
            "├────┼──────────────┼────────┼──────────┼───────────────────┼───────┼──────────────────┼──────────┼───────────────────┼─────────────────────────┼─────────────────────────────────────┼──────────────────────────┼─────────────────┼──────────────────┼───────────────────┼────────────────┼──────────────────────────┼────────────────────┼────────────────────┼────────────────────┼───────────────────┼────────────────────┼───────────────┼──────────────────────────────┼────────────────────────────┼─────────────────────────┤\n",
            "│  4 │            4 │ 119299 │ Male     │ Loyal Customer    │    61 │ Business travel  │ Business │               214 │                       3 │                                   3 │                        3 │               3 │                4 │                 5 │              5 │                        3 │                  3 │                  4 │                  4 │                 3 │                  3 │             3 │                            0 │                          0 │ satisfied               │\n",
            "├────┼──────────────┼────────┼──────────┼───────────────────┼───────┼──────────────────┼──────────┼───────────────────┼─────────────────────────┼─────────────────────────────────────┼──────────────────────────┼─────────────────┼──────────────────┼───────────────────┼────────────────┼──────────────────────────┼────────────────────┼────────────────────┼────────────────────┼───────────────────┼────────────────────┼───────────────┼──────────────────────────────┼────────────────────────────┼─────────────────────────┤\n",
            "│  5 │            5 │ 111157 │ Female   │ Loyal Customer    │    26 │ Personal Travel  │ Eco      │              1180 │                       3 │                                   4 │                        2 │               1 │                1 │                 2 │              1 │                        1 │                  3 │                  4 │                  4 │                 4 │                  4 │             1 │                            0 │                          0 │ neutral or dissatisfied │\n",
            "╘════╧══════════════╧════════╧══════════╧═══════════════════╧═══════╧══════════════════╧══════════╧═══════════════════╧═════════════════════════╧═════════════════════════════════════╧══════════════════════════╧═════════════════╧══════════════════╧═══════════════════╧════════════════╧══════════════════════════╧════════════════════╧════════════════════╧════════════════════╧═══════════════════╧════════════════════╧═══════════════╧══════════════════════════════╧════════════════════════════╧═════════════════════════╛\n"
          ]
        }
      ]
    },
    {
      "cell_type": "code",
      "source": [
        "train = train.drop(['Unnamed: 0','id'], axis=1)\n",
        "test = test.drop(['Unnamed: 0','id'], axis=1)"
      ],
      "metadata": {
        "id": "jxX8FiMKLmP2"
      },
      "execution_count": null,
      "outputs": []
    },
    {
      "cell_type": "code",
      "source": [
        "print('Training data:',train.shape)\n",
        "print('Testing data: ',test.shape)"
      ],
      "metadata": {
        "colab": {
          "base_uri": "https://localhost:8080/"
        },
        "id": "qWYYNvnVMJF2",
        "outputId": "ade64fb7-ed80-49c7-8776-9c30f4a59076"
      },
      "execution_count": null,
      "outputs": [
        {
          "output_type": "stream",
          "name": "stdout",
          "text": [
            "Training data: (103904, 23)\n",
            "Testing data:  (25976, 23)\n"
          ]
        }
      ]
    },
    {
      "cell_type": "code",
      "source": [
        "print(tabulate(train[:6], headers=train.columns, tablefmt='fancy_grid'))"
      ],
      "metadata": {
        "colab": {
          "base_uri": "https://localhost:8080/"
        },
        "id": "4xIAD4ihMRq2",
        "outputId": "e8114898-8858-40b5-abf1-2c8703b441bc"
      },
      "execution_count": null,
      "outputs": [
        {
          "output_type": "stream",
          "name": "stdout",
          "text": [
            "╒════╤══════════╤═══════════════════╤═══════╤══════════════════╤══════════╤═══════════════════╤═════════════════════════╤═════════════════════════════════════╤══════════════════════════╤═════════════════╤══════════════════╤═══════════════════╤════════════════╤══════════════════════════╤════════════════════╤════════════════════╤════════════════════╤═══════════════════╤════════════════════╤═══════════════╤══════════════════════════════╤════════════════════════════╤═════════════════════════╕\n",
            "│    │ Gender   │ Customer Type     │   Age │ Type of Travel   │ Class    │   Flight Distance │   Inflight wifi service │   Departure/Arrival time convenient │   Ease of Online booking │   Gate location │   Food and drink │   Online boarding │   Seat comfort │   Inflight entertainment │   On-board service │   Leg room service │   Baggage handling │   Checkin service │   Inflight service │   Cleanliness │   Departure Delay in Minutes │   Arrival Delay in Minutes │ satisfaction            │\n",
            "╞════╪══════════╪═══════════════════╪═══════╪══════════════════╪══════════╪═══════════════════╪═════════════════════════╪═════════════════════════════════════╪══════════════════════════╪═════════════════╪══════════════════╪═══════════════════╪════════════════╪══════════════════════════╪════════════════════╪════════════════════╪════════════════════╪═══════════════════╪════════════════════╪═══════════════╪══════════════════════════════╪════════════════════════════╪═════════════════════════╡\n",
            "│  0 │ Male     │ Loyal Customer    │    13 │ Personal Travel  │ Eco Plus │               460 │                       3 │                                   4 │                        3 │               1 │                5 │                 3 │              5 │                        5 │                  4 │                  3 │                  4 │                 4 │                  5 │             5 │                           25 │                         18 │ neutral or dissatisfied │\n",
            "├────┼──────────┼───────────────────┼───────┼──────────────────┼──────────┼───────────────────┼─────────────────────────┼─────────────────────────────────────┼──────────────────────────┼─────────────────┼──────────────────┼───────────────────┼────────────────┼──────────────────────────┼────────────────────┼────────────────────┼────────────────────┼───────────────────┼────────────────────┼───────────────┼──────────────────────────────┼────────────────────────────┼─────────────────────────┤\n",
            "│  1 │ Male     │ disloyal Customer │    25 │ Business travel  │ Business │               235 │                       3 │                                   2 │                        3 │               3 │                1 │                 3 │              1 │                        1 │                  1 │                  5 │                  3 │                 1 │                  4 │             1 │                            1 │                          6 │ neutral or dissatisfied │\n",
            "├────┼──────────┼───────────────────┼───────┼──────────────────┼──────────┼───────────────────┼─────────────────────────┼─────────────────────────────────────┼──────────────────────────┼─────────────────┼──────────────────┼───────────────────┼────────────────┼──────────────────────────┼────────────────────┼────────────────────┼────────────────────┼───────────────────┼────────────────────┼───────────────┼──────────────────────────────┼────────────────────────────┼─────────────────────────┤\n",
            "│  2 │ Female   │ Loyal Customer    │    26 │ Business travel  │ Business │              1142 │                       2 │                                   2 │                        2 │               2 │                5 │                 5 │              5 │                        5 │                  4 │                  3 │                  4 │                 4 │                  4 │             5 │                            0 │                          0 │ satisfied               │\n",
            "├────┼──────────┼───────────────────┼───────┼──────────────────┼──────────┼───────────────────┼─────────────────────────┼─────────────────────────────────────┼──────────────────────────┼─────────────────┼──────────────────┼───────────────────┼────────────────┼──────────────────────────┼────────────────────┼────────────────────┼────────────────────┼───────────────────┼────────────────────┼───────────────┼──────────────────────────────┼────────────────────────────┼─────────────────────────┤\n",
            "│  3 │ Female   │ Loyal Customer    │    25 │ Business travel  │ Business │               562 │                       2 │                                   5 │                        5 │               5 │                2 │                 2 │              2 │                        2 │                  2 │                  5 │                  3 │                 1 │                  4 │             2 │                           11 │                          9 │ neutral or dissatisfied │\n",
            "├────┼──────────┼───────────────────┼───────┼──────────────────┼──────────┼───────────────────┼─────────────────────────┼─────────────────────────────────────┼──────────────────────────┼─────────────────┼──────────────────┼───────────────────┼────────────────┼──────────────────────────┼────────────────────┼────────────────────┼────────────────────┼───────────────────┼────────────────────┼───────────────┼──────────────────────────────┼────────────────────────────┼─────────────────────────┤\n",
            "│  4 │ Male     │ Loyal Customer    │    61 │ Business travel  │ Business │               214 │                       3 │                                   3 │                        3 │               3 │                4 │                 5 │              5 │                        3 │                  3 │                  4 │                  4 │                 3 │                  3 │             3 │                            0 │                          0 │ satisfied               │\n",
            "├────┼──────────┼───────────────────┼───────┼──────────────────┼──────────┼───────────────────┼─────────────────────────┼─────────────────────────────────────┼──────────────────────────┼─────────────────┼──────────────────┼───────────────────┼────────────────┼──────────────────────────┼────────────────────┼────────────────────┼────────────────────┼───────────────────┼────────────────────┼───────────────┼──────────────────────────────┼────────────────────────────┼─────────────────────────┤\n",
            "│  5 │ Female   │ Loyal Customer    │    26 │ Personal Travel  │ Eco      │              1180 │                       3 │                                   4 │                        2 │               1 │                1 │                 2 │              1 │                        1 │                  3 │                  4 │                  4 │                 4 │                  4 │             1 │                            0 │                          0 │ neutral or dissatisfied │\n",
            "╘════╧══════════╧═══════════════════╧═══════╧══════════════════╧══════════╧═══════════════════╧═════════════════════════╧═════════════════════════════════════╧══════════════════════════╧═════════════════╧══════════════════╧═══════════════════╧════════════════╧══════════════════════════╧════════════════════╧════════════════════╧════════════════════╧═══════════════════╧════════════════════╧═══════════════╧══════════════════════════════╧════════════════════════════╧═════════════════════════╛\n"
          ]
        }
      ]
    },
    {
      "cell_type": "code",
      "source": [
        "train.isna().sum()"
      ],
      "metadata": {
        "colab": {
          "base_uri": "https://localhost:8080/"
        },
        "id": "PEK6wnysMlLx",
        "outputId": "c80dbbb2-9531-4987-dbd4-845c5c3d1b6f"
      },
      "execution_count": null,
      "outputs": [
        {
          "output_type": "execute_result",
          "data": {
            "text/plain": [
              "Gender                                 0\n",
              "Customer Type                          0\n",
              "Age                                    0\n",
              "Type of Travel                         0\n",
              "Class                                  0\n",
              "Flight Distance                        0\n",
              "Inflight wifi service                  0\n",
              "Departure/Arrival time convenient      0\n",
              "Ease of Online booking                 0\n",
              "Gate location                          0\n",
              "Food and drink                         0\n",
              "Online boarding                        0\n",
              "Seat comfort                           0\n",
              "Inflight entertainment                 0\n",
              "On-board service                       0\n",
              "Leg room service                       0\n",
              "Baggage handling                       0\n",
              "Checkin service                        0\n",
              "Inflight service                       0\n",
              "Cleanliness                            0\n",
              "Departure Delay in Minutes             0\n",
              "Arrival Delay in Minutes             310\n",
              "satisfaction                           0\n",
              "dtype: int64"
            ]
          },
          "metadata": {},
          "execution_count": 53
        }
      ]
    },
    {
      "cell_type": "code",
      "source": [
        "train.info()"
      ],
      "metadata": {
        "colab": {
          "base_uri": "https://localhost:8080/"
        },
        "id": "7CP4fc2dMUe3",
        "outputId": "682d1c01-b24b-4c2f-a462-593091521849"
      },
      "execution_count": null,
      "outputs": [
        {
          "output_type": "stream",
          "name": "stdout",
          "text": [
            "<class 'pandas.core.frame.DataFrame'>\n",
            "RangeIndex: 103904 entries, 0 to 103903\n",
            "Data columns (total 23 columns):\n",
            " #   Column                             Non-Null Count   Dtype  \n",
            "---  ------                             --------------   -----  \n",
            " 0   Gender                             103904 non-null  object \n",
            " 1   Customer Type                      103904 non-null  object \n",
            " 2   Age                                103904 non-null  int64  \n",
            " 3   Type of Travel                     103904 non-null  object \n",
            " 4   Class                              103904 non-null  object \n",
            " 5   Flight Distance                    103904 non-null  int64  \n",
            " 6   Inflight wifi service              103904 non-null  int64  \n",
            " 7   Departure/Arrival time convenient  103904 non-null  int64  \n",
            " 8   Ease of Online booking             103904 non-null  int64  \n",
            " 9   Gate location                      103904 non-null  int64  \n",
            " 10  Food and drink                     103904 non-null  int64  \n",
            " 11  Online boarding                    103904 non-null  int64  \n",
            " 12  Seat comfort                       103904 non-null  int64  \n",
            " 13  Inflight entertainment             103904 non-null  int64  \n",
            " 14  On-board service                   103904 non-null  int64  \n",
            " 15  Leg room service                   103904 non-null  int64  \n",
            " 16  Baggage handling                   103904 non-null  int64  \n",
            " 17  Checkin service                    103904 non-null  int64  \n",
            " 18  Inflight service                   103904 non-null  int64  \n",
            " 19  Cleanliness                        103904 non-null  int64  \n",
            " 20  Departure Delay in Minutes         103904 non-null  int64  \n",
            " 21  Arrival Delay in Minutes           103594 non-null  float64\n",
            " 22  satisfaction                       103904 non-null  object \n",
            "dtypes: float64(1), int64(17), object(5)\n",
            "memory usage: 18.2+ MB\n"
          ]
        }
      ]
    },
    {
      "cell_type": "code",
      "source": [],
      "metadata": {
        "id": "k4Y48PrRQO_D"
      },
      "execution_count": null,
      "outputs": []
    }
  ]
}